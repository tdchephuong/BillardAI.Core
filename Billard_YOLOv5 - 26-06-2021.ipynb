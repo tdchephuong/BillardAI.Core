{
  "nbformat": 4,
  "nbformat_minor": 0,
  "metadata": {
    "colab": {
      "name": "Billard - YOLOv5",
      "provenance": [],
      "collapsed_sections": [
        "VUOiNLtMP5aG",
        "4JnkELT0cIJg",
        "-WPvRbS5Swl6",
        "5qoLF2RiNtBb",
        "IEijrePND_2I"
      ]
    },
    "kernelspec": {
      "name": "python3",
      "display_name": "Python 3"
    },
    "accelerator": "GPU"
  },
  "cells": [
    {
      "cell_type": "markdown",
      "metadata": {
        "id": "7mGmQbAO5pQb"
      },
      "source": [
        "#1. Setup\n",
        "\n",
        "Clone repo, install dependencies and check PyTorch and GPU."
      ]
    },
    {
      "cell_type": "code",
      "metadata": {
        "id": "wbvMlHd_QwMG",
        "colab": {
          "base_uri": "https://localhost:8080/"
        },
        "outputId": "12a2235f-ccff-4f9c-c288-6602d2daf630"
      },
      "source": [
        "!git clone -b develop https://github.com/tdchephuong/BillardAI.Core.git  # clone repo\n",
        "#%cd /content/BillardAI.Core/yolov5\n",
        "%pip install -qr /content/BillardAI.Core/requirements.txt  # install dependencies\n",
        "\n",
        "import torch\n",
        "from IPython.display import Image, clear_output  # to display images\n",
        "\n",
        "clear_output()\n",
        "print(f\"Setup complete. Using torch {torch.__version__} ({torch.cuda.get_device_properties(0).name if torch.cuda.is_available() else 'CPU'})\")"
      ],
      "execution_count": 1,
      "outputs": [
        {
          "output_type": "stream",
          "text": [
            "Setup complete. Using torch 1.9.0+cu102 (Tesla T4)\n"
          ],
          "name": "stdout"
        }
      ]
    },
    {
      "cell_type": "markdown",
      "metadata": {
        "id": "dTquBBFKn3nD"
      },
      "source": [
        "# Initialize"
      ]
    },
    {
      "cell_type": "code",
      "metadata": {
        "colab": {
          "base_uri": "https://localhost:8080/"
        },
        "id": "tIuMG6lAp8xM",
        "outputId": "3227c242-1c09-43ec-fa74-a87789c2b075"
      },
      "source": [
        "!python /content/BillardAI.Core/main.py --source /content/drive/MyDrive/BillardAI/yolo-training.zip\n"
      ],
      "execution_count": 2,
      "outputs": [
        {
          "output_type": "stream",
          "text": [
            "Namespace(source='/content/drive/MyDrive/BillardAI/yolo-training.zip')\n",
            "Go to this URL in a browser: https://accounts.google.com/o/oauth2/auth?client_id=947318989803-6bn6qk8qdgf4n4g3pfee6491hc0brc4i.apps.googleusercontent.com&redirect_uri=urn%3aietf%3awg%3aoauth%3a2.0%3aoob&scope=email%20https%3a%2f%2fwww.googleapis.com%2fauth%2fdocs.test%20https%3a%2f%2fwww.googleapis.com%2fauth%2fdrive%20https%3a%2f%2fwww.googleapis.com%2fauth%2fdrive.photos.readonly%20https%3a%2f%2fwww.googleapis.com%2fauth%2fpeopleapi.readonly%20https%3a%2f%2fwww.googleapis.com%2fauth%2fdrive.activity.readonly%20https%3a%2f%2fwww.googleapis.com%2fauth%2fexperimentsandconfigs%20https%3a%2f%2fwww.googleapis.com%2fauth%2fphotos.native&response_type=code\n",
            "\n",
            "Enter your authorization code:\n",
            "4/1AX4XfWgMOs9TTwHgpta_QsmqD-ZptXvbSmifH5aIAR2IT0ISRAyoOrUvdDI\n",
            "Mounted at /content/drive\n",
            "Drive has mounted.\n",
            "File has Unzipped into directory [Dataset]./content/drive/MyDrive/BillardAI/yolo-training.zip\n"
          ],
          "name": "stdout"
        }
      ]
    },
    {
      "cell_type": "markdown",
      "metadata": {
        "id": "u0ac-BvLxTps"
      },
      "source": [
        "# Update develop branch"
      ]
    },
    {
      "cell_type": "code",
      "metadata": {
        "colab": {
          "base_uri": "https://localhost:8080/"
        },
        "id": "ZCA9Mdg2xbov",
        "outputId": "f220a22a-5d29-4936-e4a0-443b3fc629af"
      },
      "source": [
        "%cd BillardAI.Core\n",
        "!git pull origin develop"
      ],
      "execution_count": null,
      "outputs": [
        {
          "output_type": "stream",
          "text": [
            "[Errno 2] No such file or directory: 'BillardAI.Core'\n",
            "/content/BillardAI.Core\n",
            "From https://github.com/tdchephuong/BillardAI.Core\n",
            " * branch            develop    -> FETCH_HEAD\n",
            "Already up to date.\n"
          ],
          "name": "stdout"
        }
      ]
    },
    {
      "cell_type": "markdown",
      "metadata": {
        "id": "VUOiNLtMP5aG"
      },
      "source": [
        "# Train\n",
        "\n",
        "Download [COCO128](https://www.kaggle.com/ultralytics/coco128), a small 128-image tutorial dataset, start tensorboard and train YOLOv5s from a pretrained checkpoint for 3 epochs (note actual training is typically much longer, around **300-1000 epochs**, depending on your dataset)."
      ]
    },
    {
      "cell_type": "code",
      "metadata": {
        "id": "1NcFxRcFdJ_O",
        "colab": {
          "base_uri": "https://localhost:8080/",
          "height": 387
        },
        "outputId": "855c7631-c571-4c7b-b879-a9dcda0cddfb"
      },
      "source": [
        "# clear all file \n",
        "!rm -rf /content/BillardAI.Core/Models\n",
        "%cd /content/BillardAI.Core\n",
        "\n",
        "from ultils.ultils import backup_file, copy_file_to_folder\n",
        "\n",
        "copy_file_to_folder('requirements.txt', '/content/BillardAI.Core/yolov5')\n",
        "\n",
        "# Train YOLOv5s on COCO128 for 3 epochs\n",
        "!python yolov5/train.py --img 1024 --batch 8 --epochs 300 --data ./data/Custom_coco128.yaml --weights yolov5m.pt --project /content/BillardAI.Core/Models\n",
        "\n",
        "# Backup file after trained\n",
        "backup_file(\"/content/BillardAI.Core/Models/exp/weights/best.pt\")\n"
      ],
      "execution_count": 5,
      "outputs": [
        {
          "output_type": "error",
          "ename": "KeyboardInterrupt",
          "evalue": "ignored",
          "traceback": [
            "\u001b[0;31m---------------------------------------------------------------------------\u001b[0m",
            "\u001b[0;31mKeyboardInterrupt\u001b[0m                         Traceback (most recent call last)",
            "\u001b[0;32m<ipython-input-5-501fda58722f>\u001b[0m in \u001b[0;36m<module>\u001b[0;34m()\u001b[0m\n\u001b[1;32m      8\u001b[0m \u001b[0;34m\u001b[0m\u001b[0m\n\u001b[1;32m      9\u001b[0m \u001b[0;31m# Train YOLOv5s on COCO128 for 3 epochs\u001b[0m\u001b[0;34m\u001b[0m\u001b[0;34m\u001b[0m\u001b[0;34m\u001b[0m\u001b[0m\n\u001b[0;32m---> 10\u001b[0;31m \u001b[0mget_ipython\u001b[0m\u001b[0;34m(\u001b[0m\u001b[0;34m)\u001b[0m\u001b[0;34m.\u001b[0m\u001b[0msystem\u001b[0m\u001b[0;34m(\u001b[0m\u001b[0;34m'python yolov5/train.py --img 1024 --batch 8 --epochs 300 --data ./data/Custom_coco128.yaml --weights yolov5m.pt --project /content/BillardAI.Core/Models'\u001b[0m\u001b[0;34m)\u001b[0m\u001b[0;34m\u001b[0m\u001b[0;34m\u001b[0m\u001b[0m\n\u001b[0m\u001b[1;32m     11\u001b[0m \u001b[0;34m\u001b[0m\u001b[0m\n\u001b[1;32m     12\u001b[0m \u001b[0;31m# Backup file after trained\u001b[0m\u001b[0;34m\u001b[0m\u001b[0;34m\u001b[0m\u001b[0;34m\u001b[0m\u001b[0m\n",
            "\u001b[0;32m/usr/local/lib/python3.7/dist-packages/google/colab/_shell.py\u001b[0m in \u001b[0;36msystem\u001b[0;34m(self, *args, **kwargs)\u001b[0m\n\u001b[1;32m    100\u001b[0m       \u001b[0mkwargs\u001b[0m\u001b[0;34m.\u001b[0m\u001b[0mupdate\u001b[0m\u001b[0;34m(\u001b[0m\u001b[0;34m{\u001b[0m\u001b[0;34m'also_return_output'\u001b[0m\u001b[0;34m:\u001b[0m \u001b[0;32mTrue\u001b[0m\u001b[0;34m}\u001b[0m\u001b[0;34m)\u001b[0m\u001b[0;34m\u001b[0m\u001b[0;34m\u001b[0m\u001b[0m\n\u001b[1;32m    101\u001b[0m \u001b[0;34m\u001b[0m\u001b[0m\n\u001b[0;32m--> 102\u001b[0;31m     \u001b[0moutput\u001b[0m \u001b[0;34m=\u001b[0m \u001b[0m_system_commands\u001b[0m\u001b[0;34m.\u001b[0m\u001b[0m_system_compat\u001b[0m\u001b[0;34m(\u001b[0m\u001b[0mself\u001b[0m\u001b[0;34m,\u001b[0m \u001b[0;34m*\u001b[0m\u001b[0margs\u001b[0m\u001b[0;34m,\u001b[0m \u001b[0;34m**\u001b[0m\u001b[0mkwargs\u001b[0m\u001b[0;34m)\u001b[0m  \u001b[0;31m# pylint:disable=protected-access\u001b[0m\u001b[0;34m\u001b[0m\u001b[0;34m\u001b[0m\u001b[0m\n\u001b[0m\u001b[1;32m    103\u001b[0m \u001b[0;34m\u001b[0m\u001b[0m\n\u001b[1;32m    104\u001b[0m     \u001b[0;32mif\u001b[0m \u001b[0mpip_warn\u001b[0m\u001b[0;34m:\u001b[0m\u001b[0;34m\u001b[0m\u001b[0;34m\u001b[0m\u001b[0m\n",
            "\u001b[0;32m/usr/local/lib/python3.7/dist-packages/google/colab/_system_commands.py\u001b[0m in \u001b[0;36m_system_compat\u001b[0;34m(shell, cmd, also_return_output)\u001b[0m\n\u001b[1;32m    445\u001b[0m   \u001b[0;31m# stack.\u001b[0m\u001b[0;34m\u001b[0m\u001b[0;34m\u001b[0m\u001b[0;34m\u001b[0m\u001b[0m\n\u001b[1;32m    446\u001b[0m   result = _run_command(\n\u001b[0;32m--> 447\u001b[0;31m       shell.var_expand(cmd, depth=2), clear_streamed_output=False)\n\u001b[0m\u001b[1;32m    448\u001b[0m   \u001b[0mshell\u001b[0m\u001b[0;34m.\u001b[0m\u001b[0muser_ns\u001b[0m\u001b[0;34m[\u001b[0m\u001b[0;34m'_exit_code'\u001b[0m\u001b[0;34m]\u001b[0m \u001b[0;34m=\u001b[0m \u001b[0mresult\u001b[0m\u001b[0;34m.\u001b[0m\u001b[0mreturncode\u001b[0m\u001b[0;34m\u001b[0m\u001b[0;34m\u001b[0m\u001b[0m\n\u001b[1;32m    449\u001b[0m   \u001b[0;32mif\u001b[0m \u001b[0;34m-\u001b[0m\u001b[0mresult\u001b[0m\u001b[0;34m.\u001b[0m\u001b[0mreturncode\u001b[0m \u001b[0;32min\u001b[0m \u001b[0m_INTERRUPTED_SIGNALS\u001b[0m\u001b[0;34m:\u001b[0m\u001b[0;34m\u001b[0m\u001b[0;34m\u001b[0m\u001b[0m\n",
            "\u001b[0;32m/usr/local/lib/python3.7/dist-packages/google/colab/_system_commands.py\u001b[0m in \u001b[0;36m_run_command\u001b[0;34m(cmd, clear_streamed_output)\u001b[0m\n\u001b[1;32m    197\u001b[0m       \u001b[0mos\u001b[0m\u001b[0;34m.\u001b[0m\u001b[0mclose\u001b[0m\u001b[0;34m(\u001b[0m\u001b[0mchild_pty\u001b[0m\u001b[0;34m)\u001b[0m\u001b[0;34m\u001b[0m\u001b[0;34m\u001b[0m\u001b[0m\n\u001b[1;32m    198\u001b[0m \u001b[0;34m\u001b[0m\u001b[0m\n\u001b[0;32m--> 199\u001b[0;31m       \u001b[0;32mreturn\u001b[0m \u001b[0m_monitor_process\u001b[0m\u001b[0;34m(\u001b[0m\u001b[0mparent_pty\u001b[0m\u001b[0;34m,\u001b[0m \u001b[0mepoll\u001b[0m\u001b[0;34m,\u001b[0m \u001b[0mp\u001b[0m\u001b[0;34m,\u001b[0m \u001b[0mcmd\u001b[0m\u001b[0;34m,\u001b[0m \u001b[0mupdate_stdin_widget\u001b[0m\u001b[0;34m)\u001b[0m\u001b[0;34m\u001b[0m\u001b[0;34m\u001b[0m\u001b[0m\n\u001b[0m\u001b[1;32m    200\u001b[0m   \u001b[0;32mfinally\u001b[0m\u001b[0;34m:\u001b[0m\u001b[0;34m\u001b[0m\u001b[0;34m\u001b[0m\u001b[0m\n\u001b[1;32m    201\u001b[0m     \u001b[0mepoll\u001b[0m\u001b[0;34m.\u001b[0m\u001b[0mclose\u001b[0m\u001b[0;34m(\u001b[0m\u001b[0;34m)\u001b[0m\u001b[0;34m\u001b[0m\u001b[0;34m\u001b[0m\u001b[0m\n",
            "\u001b[0;32m/usr/local/lib/python3.7/dist-packages/google/colab/_system_commands.py\u001b[0m in \u001b[0;36m_monitor_process\u001b[0;34m(parent_pty, epoll, p, cmd, update_stdin_widget)\u001b[0m\n\u001b[1;32m    227\u001b[0m   \u001b[0;32mwhile\u001b[0m \u001b[0;32mTrue\u001b[0m\u001b[0;34m:\u001b[0m\u001b[0;34m\u001b[0m\u001b[0;34m\u001b[0m\u001b[0m\n\u001b[1;32m    228\u001b[0m     \u001b[0;32mtry\u001b[0m\u001b[0;34m:\u001b[0m\u001b[0;34m\u001b[0m\u001b[0;34m\u001b[0m\u001b[0m\n\u001b[0;32m--> 229\u001b[0;31m       \u001b[0mresult\u001b[0m \u001b[0;34m=\u001b[0m \u001b[0m_poll_process\u001b[0m\u001b[0;34m(\u001b[0m\u001b[0mparent_pty\u001b[0m\u001b[0;34m,\u001b[0m \u001b[0mepoll\u001b[0m\u001b[0;34m,\u001b[0m \u001b[0mp\u001b[0m\u001b[0;34m,\u001b[0m \u001b[0mcmd\u001b[0m\u001b[0;34m,\u001b[0m \u001b[0mdecoder\u001b[0m\u001b[0;34m,\u001b[0m \u001b[0mstate\u001b[0m\u001b[0;34m)\u001b[0m\u001b[0;34m\u001b[0m\u001b[0;34m\u001b[0m\u001b[0m\n\u001b[0m\u001b[1;32m    230\u001b[0m       \u001b[0;32mif\u001b[0m \u001b[0mresult\u001b[0m \u001b[0;32mis\u001b[0m \u001b[0;32mnot\u001b[0m \u001b[0;32mNone\u001b[0m\u001b[0;34m:\u001b[0m\u001b[0;34m\u001b[0m\u001b[0;34m\u001b[0m\u001b[0m\n\u001b[1;32m    231\u001b[0m         \u001b[0;32mreturn\u001b[0m \u001b[0mresult\u001b[0m\u001b[0;34m\u001b[0m\u001b[0;34m\u001b[0m\u001b[0m\n",
            "\u001b[0;32m/usr/local/lib/python3.7/dist-packages/google/colab/_system_commands.py\u001b[0m in \u001b[0;36m_poll_process\u001b[0;34m(parent_pty, epoll, p, cmd, decoder, state)\u001b[0m\n\u001b[1;32m    274\u001b[0m   \u001b[0moutput_available\u001b[0m \u001b[0;34m=\u001b[0m \u001b[0;32mFalse\u001b[0m\u001b[0;34m\u001b[0m\u001b[0;34m\u001b[0m\u001b[0m\n\u001b[1;32m    275\u001b[0m \u001b[0;34m\u001b[0m\u001b[0m\n\u001b[0;32m--> 276\u001b[0;31m   \u001b[0mevents\u001b[0m \u001b[0;34m=\u001b[0m \u001b[0mepoll\u001b[0m\u001b[0;34m.\u001b[0m\u001b[0mpoll\u001b[0m\u001b[0;34m(\u001b[0m\u001b[0;34m)\u001b[0m\u001b[0;34m\u001b[0m\u001b[0;34m\u001b[0m\u001b[0m\n\u001b[0m\u001b[1;32m    277\u001b[0m   \u001b[0minput_events\u001b[0m \u001b[0;34m=\u001b[0m \u001b[0;34m[\u001b[0m\u001b[0;34m]\u001b[0m\u001b[0;34m\u001b[0m\u001b[0;34m\u001b[0m\u001b[0m\n\u001b[1;32m    278\u001b[0m   \u001b[0;32mfor\u001b[0m \u001b[0m_\u001b[0m\u001b[0;34m,\u001b[0m \u001b[0mevent\u001b[0m \u001b[0;32min\u001b[0m \u001b[0mevents\u001b[0m\u001b[0;34m:\u001b[0m\u001b[0;34m\u001b[0m\u001b[0;34m\u001b[0m\u001b[0m\n",
            "\u001b[0;31mKeyboardInterrupt\u001b[0m: "
          ]
        }
      ]
    },
    {
      "cell_type": "markdown",
      "metadata": {
        "id": "4JnkELT0cIJg"
      },
      "source": [
        "# Inference\n",
        "\n"
      ]
    },
    {
      "cell_type": "code",
      "metadata": {
        "id": "h1A_SOF3YMvt"
      },
      "source": [
        "!cp '/content/drive/MyDrive/BillardAI/Videos/VID_20210503_204021.mp4' '/content/Videos'"
      ],
      "execution_count": null,
      "outputs": []
    },
    {
      "cell_type": "code",
      "metadata": {
        "id": "zR9ZbuQCH7FX",
        "colab": {
          "base_uri": "https://localhost:8080/"
        },
        "outputId": "1c470060-2c38-4336-a3a8-0fc0a421cc6c"
      },
      "source": [
        "%cd /content/BillardAI.Core/\n",
        "!python yolov5/detect.py --weights /content/BillardAI.Core/Models/exp/weights/best.pt --img 640 --conf 0.5 --source /content/drive/MyDrive/BillardAI/Videos/VID_20210503_204021.mp4 --save-txt"
      ],
      "execution_count": null,
      "outputs": [
        {
          "output_type": "stream",
          "text": [
            "/content/BillardAI.Core\n",
            "Namespace(agnostic_nms=False, augment=False, classes=None, conf_thres=0.5, device='', exist_ok=False, half=False, hide_conf=False, hide_labels=False, imgsz=640, iou_thres=0.45, line_thickness=3, max_det=1000, name='exp', nosave=False, project='runs/detect', save_conf=False, save_crop=False, save_txt=False, source='/content/drive/MyDrive/BillardAI/Videos/VID_20210503_204021.mp4', update=False, view_img=False, weights=['/content/BillardAI.Core/Models/exp/weights/best.pt'])\n",
            "YOLOv5 🚀 af14808 torch 1.9.0+cu102 CUDA:0 (Tesla T4, 15109.75MB)\n",
            "\n",
            "Fusing layers... \n",
            "/usr/local/lib/python3.7/dist-packages/torch/nn/functional.py:718: UserWarning: Named tensors and all their associated APIs are an experimental feature and subject to change. Please do not use them for anything important until they are released as stable. (Triggered internally at  /pytorch/c10/core/TensorImpl.h:1156.)\n",
            "  return torch.max_pool2d(input, kernel_size, stride, padding, dilation, ceil_mode)\n",
            "Model Summary: 308 layers, 21045720 parameters, 0 gradients, 50.3 GFLOPs\n",
            "video 1/1 (1/333) /content/drive/MyDrive/BillardAI/Videos/VID_20210503_204021.mp4: 384x640 1 red, Done. (0.026s)\n",
            "video 1/1 (2/333) /content/drive/MyDrive/BillardAI/Videos/VID_20210503_204021.mp4: 384x640 1 red, Done. (0.025s)\n",
            "video 1/1 (3/333) /content/drive/MyDrive/BillardAI/Videos/VID_20210503_204021.mp4: 384x640 1 red, Done. (0.025s)\n",
            "video 1/1 (4/333) /content/drive/MyDrive/BillardAI/Videos/VID_20210503_204021.mp4: 384x640 1 red, Done. (0.018s)\n",
            "video 1/1 (5/333) /content/drive/MyDrive/BillardAI/Videos/VID_20210503_204021.mp4: 384x640 1 red, Done. (0.019s)\n",
            "video 1/1 (6/333) /content/drive/MyDrive/BillardAI/Videos/VID_20210503_204021.mp4: 384x640 1 red, Done. (0.018s)\n",
            "video 1/1 (7/333) /content/drive/MyDrive/BillardAI/Videos/VID_20210503_204021.mp4: 384x640 1 red, Done. (0.018s)\n",
            "video 1/1 (8/333) /content/drive/MyDrive/BillardAI/Videos/VID_20210503_204021.mp4: 384x640 1 red, Done. (0.018s)\n",
            "video 1/1 (9/333) /content/drive/MyDrive/BillardAI/Videos/VID_20210503_204021.mp4: 384x640 1 red, Done. (0.018s)\n",
            "video 1/1 (10/333) /content/drive/MyDrive/BillardAI/Videos/VID_20210503_204021.mp4: 384x640 1 red, Done. (0.016s)\n",
            "video 1/1 (11/333) /content/drive/MyDrive/BillardAI/Videos/VID_20210503_204021.mp4: 384x640 1 red, Done. (0.014s)\n",
            "video 1/1 (12/333) /content/drive/MyDrive/BillardAI/Videos/VID_20210503_204021.mp4: 384x640 1 red, Done. (0.014s)\n",
            "video 1/1 (13/333) /content/drive/MyDrive/BillardAI/Videos/VID_20210503_204021.mp4: 384x640 1 red, Done. (0.014s)\n",
            "video 1/1 (14/333) /content/drive/MyDrive/BillardAI/Videos/VID_20210503_204021.mp4: 384x640 1 red, Done. (0.014s)\n",
            "video 1/1 (15/333) /content/drive/MyDrive/BillardAI/Videos/VID_20210503_204021.mp4: 384x640 1 red, Done. (0.014s)\n",
            "video 1/1 (16/333) /content/drive/MyDrive/BillardAI/Videos/VID_20210503_204021.mp4: 384x640 1 red, Done. (0.014s)\n",
            "video 1/1 (17/333) /content/drive/MyDrive/BillardAI/Videos/VID_20210503_204021.mp4: 384x640 1 red, Done. (0.014s)\n",
            "video 1/1 (18/333) /content/drive/MyDrive/BillardAI/Videos/VID_20210503_204021.mp4: 384x640 1 red, Done. (0.012s)\n",
            "video 1/1 (19/333) /content/drive/MyDrive/BillardAI/Videos/VID_20210503_204021.mp4: 384x640 1 red, Done. (0.012s)\n",
            "video 1/1 (20/333) /content/drive/MyDrive/BillardAI/Videos/VID_20210503_204021.mp4: 384x640 1 red, Done. (0.012s)\n",
            "video 1/1 (21/333) /content/drive/MyDrive/BillardAI/Videos/VID_20210503_204021.mp4: 384x640 1 red, Done. (0.012s)\n",
            "video 1/1 (22/333) /content/drive/MyDrive/BillardAI/Videos/VID_20210503_204021.mp4: 384x640 1 red, Done. (0.012s)\n",
            "video 1/1 (23/333) /content/drive/MyDrive/BillardAI/Videos/VID_20210503_204021.mp4: 384x640 1 red, Done. (0.011s)\n",
            "video 1/1 (24/333) /content/drive/MyDrive/BillardAI/Videos/VID_20210503_204021.mp4: 384x640 1 red, Done. (0.011s)\n",
            "video 1/1 (25/333) /content/drive/MyDrive/BillardAI/Videos/VID_20210503_204021.mp4: 384x640 1 red, Done. (0.011s)\n",
            "video 1/1 (26/333) /content/drive/MyDrive/BillardAI/Videos/VID_20210503_204021.mp4: 384x640 1 red, Done. (0.011s)\n",
            "video 1/1 (27/333) /content/drive/MyDrive/BillardAI/Videos/VID_20210503_204021.mp4: 384x640 1 red, Done. (0.011s)\n",
            "video 1/1 (28/333) /content/drive/MyDrive/BillardAI/Videos/VID_20210503_204021.mp4: 384x640 1 red, Done. (0.011s)\n",
            "video 1/1 (29/333) /content/drive/MyDrive/BillardAI/Videos/VID_20210503_204021.mp4: 384x640 1 red, Done. (0.011s)\n",
            "video 1/1 (30/333) /content/drive/MyDrive/BillardAI/Videos/VID_20210503_204021.mp4: 384x640 1 red, Done. (0.011s)\n",
            "video 1/1 (31/333) /content/drive/MyDrive/BillardAI/Videos/VID_20210503_204021.mp4: 384x640 1 red, Done. (0.012s)\n",
            "video 1/1 (32/333) /content/drive/MyDrive/BillardAI/Videos/VID_20210503_204021.mp4: 384x640 1 red, Done. (0.011s)\n",
            "video 1/1 (33/333) /content/drive/MyDrive/BillardAI/Videos/VID_20210503_204021.mp4: 384x640 1 red, Done. (0.012s)\n",
            "video 1/1 (34/333) /content/drive/MyDrive/BillardAI/Videos/VID_20210503_204021.mp4: 384x640 1 red, Done. (0.011s)\n",
            "video 1/1 (35/333) /content/drive/MyDrive/BillardAI/Videos/VID_20210503_204021.mp4: 384x640 1 red, Done. (0.011s)\n",
            "video 1/1 (36/333) /content/drive/MyDrive/BillardAI/Videos/VID_20210503_204021.mp4: 384x640 1 red, Done. (0.011s)\n",
            "video 1/1 (37/333) /content/drive/MyDrive/BillardAI/Videos/VID_20210503_204021.mp4: 384x640 1 red, Done. (0.011s)\n",
            "video 1/1 (38/333) /content/drive/MyDrive/BillardAI/Videos/VID_20210503_204021.mp4: 384x640 1 red, Done. (0.011s)\n",
            "video 1/1 (39/333) /content/drive/MyDrive/BillardAI/Videos/VID_20210503_204021.mp4: 384x640 1 red, Done. (0.011s)\n",
            "video 1/1 (40/333) /content/drive/MyDrive/BillardAI/Videos/VID_20210503_204021.mp4: 384x640 1 red, Done. (0.011s)\n",
            "video 1/1 (41/333) /content/drive/MyDrive/BillardAI/Videos/VID_20210503_204021.mp4: 384x640 1 yello, 1 red, Done. (0.017s)\n",
            "video 1/1 (42/333) /content/drive/MyDrive/BillardAI/Videos/VID_20210503_204021.mp4: 384x640 1 yello, 1 red, Done. (0.011s)\n",
            "video 1/1 (43/333) /content/drive/MyDrive/BillardAI/Videos/VID_20210503_204021.mp4: 384x640 1 yello, 1 red, Done. (0.011s)\n",
            "video 1/1 (44/333) /content/drive/MyDrive/BillardAI/Videos/VID_20210503_204021.mp4: 384x640 1 red, Done. (0.011s)\n",
            "video 1/1 (45/333) /content/drive/MyDrive/BillardAI/Videos/VID_20210503_204021.mp4: 384x640 1 red, Done. (0.011s)\n",
            "video 1/1 (46/333) /content/drive/MyDrive/BillardAI/Videos/VID_20210503_204021.mp4: 384x640 1 yello, 1 red, Done. (0.011s)\n",
            "video 1/1 (47/333) /content/drive/MyDrive/BillardAI/Videos/VID_20210503_204021.mp4: 384x640 1 yello, 1 red, Done. (0.011s)\n",
            "video 1/1 (48/333) /content/drive/MyDrive/BillardAI/Videos/VID_20210503_204021.mp4: 384x640 1 red, Done. (0.011s)\n",
            "video 1/1 (49/333) /content/drive/MyDrive/BillardAI/Videos/VID_20210503_204021.mp4: 384x640 1 white, 1 red, Done. (0.011s)\n",
            "video 1/1 (50/333) /content/drive/MyDrive/BillardAI/Videos/VID_20210503_204021.mp4: 384x640 1 white, 1 red, Done. (0.011s)\n",
            "video 1/1 (51/333) /content/drive/MyDrive/BillardAI/Videos/VID_20210503_204021.mp4: 384x640 1 yello, 1 white, 1 red, Done. (0.011s)\n",
            "video 1/1 (52/333) /content/drive/MyDrive/BillardAI/Videos/VID_20210503_204021.mp4: 384x640 1 yello, 1 red, Done. (0.011s)\n",
            "video 1/1 (53/333) /content/drive/MyDrive/BillardAI/Videos/VID_20210503_204021.mp4: 384x640 1 yello, 1 white, 1 red, Done. (0.011s)\n",
            "video 1/1 (54/333) /content/drive/MyDrive/BillardAI/Videos/VID_20210503_204021.mp4: 384x640 1 yello, 1 white, 1 red, Done. (0.011s)\n",
            "video 1/1 (55/333) /content/drive/MyDrive/BillardAI/Videos/VID_20210503_204021.mp4: 384x640 1 yello, 1 white, 1 red, Done. (0.011s)\n",
            "video 1/1 (56/333) /content/drive/MyDrive/BillardAI/Videos/VID_20210503_204021.mp4: 384x640 1 yello, 1 white, 1 red, Done. (0.011s)\n",
            "video 1/1 (57/333) /content/drive/MyDrive/BillardAI/Videos/VID_20210503_204021.mp4: 384x640 1 white, 1 red, Done. (0.011s)\n",
            "video 1/1 (58/333) /content/drive/MyDrive/BillardAI/Videos/VID_20210503_204021.mp4: 384x640 1 white, 1 red, Done. (0.011s)\n",
            "video 1/1 (59/333) /content/drive/MyDrive/BillardAI/Videos/VID_20210503_204021.mp4: 384x640 1 white, 1 red, Done. (0.012s)\n",
            "video 1/1 (60/333) /content/drive/MyDrive/BillardAI/Videos/VID_20210503_204021.mp4: 384x640 1 white, 1 red, Done. (0.011s)\n",
            "video 1/1 (61/333) /content/drive/MyDrive/BillardAI/Videos/VID_20210503_204021.mp4: 384x640 1 white, 1 red, Done. (0.011s)\n",
            "video 1/1 (62/333) /content/drive/MyDrive/BillardAI/Videos/VID_20210503_204021.mp4: 384x640 1 white, 1 red, Done. (0.012s)\n",
            "video 1/1 (63/333) /content/drive/MyDrive/BillardAI/Videos/VID_20210503_204021.mp4: 384x640 1 white, 1 red, Done. (0.011s)\n",
            "video 1/1 (64/333) /content/drive/MyDrive/BillardAI/Videos/VID_20210503_204021.mp4: 384x640 1 white, 1 red, Done. (0.011s)\n",
            "video 1/1 (65/333) /content/drive/MyDrive/BillardAI/Videos/VID_20210503_204021.mp4: 384x640 1 white, 1 red, Done. (0.011s)\n",
            "video 1/1 (66/333) /content/drive/MyDrive/BillardAI/Videos/VID_20210503_204021.mp4: 384x640 1 white, 1 red, Done. (0.011s)\n",
            "video 1/1 (67/333) /content/drive/MyDrive/BillardAI/Videos/VID_20210503_204021.mp4: 384x640 1 red, Done. (0.011s)\n",
            "video 1/1 (68/333) /content/drive/MyDrive/BillardAI/Videos/VID_20210503_204021.mp4: 384x640 1 white, 1 red, Done. (0.011s)\n",
            "video 1/1 (69/333) /content/drive/MyDrive/BillardAI/Videos/VID_20210503_204021.mp4: 384x640 1 white, 1 red, Done. (0.011s)\n",
            "video 1/1 (70/333) /content/drive/MyDrive/BillardAI/Videos/VID_20210503_204021.mp4: 384x640 1 white, 1 red, Done. (0.011s)\n",
            "video 1/1 (71/333) /content/drive/MyDrive/BillardAI/Videos/VID_20210503_204021.mp4: 384x640 1 red, Done. (0.011s)\n",
            "video 1/1 (72/333) /content/drive/MyDrive/BillardAI/Videos/VID_20210503_204021.mp4: 384x640 1 white, 1 red, Done. (0.011s)\n",
            "video 1/1 (73/333) /content/drive/MyDrive/BillardAI/Videos/VID_20210503_204021.mp4: 384x640 1 white, 1 red, Done. (0.011s)\n",
            "video 1/1 (74/333) /content/drive/MyDrive/BillardAI/Videos/VID_20210503_204021.mp4: 384x640 1 red, Done. (0.011s)\n",
            "video 1/1 (75/333) /content/drive/MyDrive/BillardAI/Videos/VID_20210503_204021.mp4: 384x640 1 white, 1 red, Done. (0.012s)\n",
            "video 1/1 (76/333) /content/drive/MyDrive/BillardAI/Videos/VID_20210503_204021.mp4: 384x640 1 white, 1 red, Done. (0.011s)\n",
            "video 1/1 (77/333) /content/drive/MyDrive/BillardAI/Videos/VID_20210503_204021.mp4: 384x640 1 white, 1 red, Done. (0.011s)\n",
            "video 1/1 (78/333) /content/drive/MyDrive/BillardAI/Videos/VID_20210503_204021.mp4: 384x640 1 white, 1 red, Done. (0.011s)\n",
            "video 1/1 (79/333) /content/drive/MyDrive/BillardAI/Videos/VID_20210503_204021.mp4: 384x640 1 white, 1 red, Done. (0.011s)\n",
            "video 1/1 (80/333) /content/drive/MyDrive/BillardAI/Videos/VID_20210503_204021.mp4: 384x640 1 white, 1 red, Done. (0.011s)\n",
            "video 1/1 (81/333) /content/drive/MyDrive/BillardAI/Videos/VID_20210503_204021.mp4: 384x640 1 white, 1 red, Done. (0.011s)\n",
            "video 1/1 (82/333) /content/drive/MyDrive/BillardAI/Videos/VID_20210503_204021.mp4: 384x640 1 white, 1 red, Done. (0.011s)\n",
            "video 1/1 (83/333) /content/drive/MyDrive/BillardAI/Videos/VID_20210503_204021.mp4: 384x640 1 white, 1 red, Done. (0.011s)\n",
            "video 1/1 (84/333) /content/drive/MyDrive/BillardAI/Videos/VID_20210503_204021.mp4: 384x640 1 white, 1 red, Done. (0.012s)\n",
            "video 1/1 (85/333) /content/drive/MyDrive/BillardAI/Videos/VID_20210503_204021.mp4: 384x640 1 yello, 1 white, 1 red, Done. (0.011s)\n",
            "video 1/1 (86/333) /content/drive/MyDrive/BillardAI/Videos/VID_20210503_204021.mp4: 384x640 1 white, 1 red, Done. (0.011s)\n",
            "video 1/1 (87/333) /content/drive/MyDrive/BillardAI/Videos/VID_20210503_204021.mp4: 384x640 1 yello, 1 white, 1 red, Done. (0.011s)\n",
            "video 1/1 (88/333) /content/drive/MyDrive/BillardAI/Videos/VID_20210503_204021.mp4: 384x640 1 yello, 1 white, 1 red, Done. (0.011s)\n",
            "video 1/1 (89/333) /content/drive/MyDrive/BillardAI/Videos/VID_20210503_204021.mp4: 384x640 1 yello, 1 white, 1 red, Done. (0.011s)\n",
            "video 1/1 (90/333) /content/drive/MyDrive/BillardAI/Videos/VID_20210503_204021.mp4: 384x640 1 yello, 1 white, 1 red, Done. (0.011s)\n",
            "video 1/1 (91/333) /content/drive/MyDrive/BillardAI/Videos/VID_20210503_204021.mp4: 384x640 1 yello, 1 white, 1 red, Done. (0.011s)\n",
            "video 1/1 (92/333) /content/drive/MyDrive/BillardAI/Videos/VID_20210503_204021.mp4: 384x640 1 yello, 1 white, 1 red, Done. (0.011s)\n",
            "video 1/1 (93/333) /content/drive/MyDrive/BillardAI/Videos/VID_20210503_204021.mp4: 384x640 1 yello, 1 white, 1 red, Done. (0.011s)\n",
            "video 1/1 (94/333) /content/drive/MyDrive/BillardAI/Videos/VID_20210503_204021.mp4: 384x640 1 yello, 1 white, 1 red, Done. (0.011s)\n",
            "video 1/1 (95/333) /content/drive/MyDrive/BillardAI/Videos/VID_20210503_204021.mp4: 384x640 1 yello, 1 white, 1 red, Done. (0.011s)\n",
            "video 1/1 (96/333) /content/drive/MyDrive/BillardAI/Videos/VID_20210503_204021.mp4: 384x640 1 yello, 1 white, 1 red, Done. (0.011s)\n",
            "video 1/1 (97/333) /content/drive/MyDrive/BillardAI/Videos/VID_20210503_204021.mp4: 384x640 1 yello, 1 white, 1 red, Done. (0.011s)\n",
            "video 1/1 (98/333) /content/drive/MyDrive/BillardAI/Videos/VID_20210503_204021.mp4: 384x640 1 yello, 1 white, 1 red, Done. (0.011s)\n",
            "video 1/1 (99/333) /content/drive/MyDrive/BillardAI/Videos/VID_20210503_204021.mp4: 384x640 1 yello, 1 white, 1 red, Done. (0.011s)\n",
            "video 1/1 (100/333) /content/drive/MyDrive/BillardAI/Videos/VID_20210503_204021.mp4: 384x640 1 yello, 1 white, 1 red, Done. (0.011s)\n",
            "video 1/1 (101/333) /content/drive/MyDrive/BillardAI/Videos/VID_20210503_204021.mp4: 384x640 1 yello, 1 red, Done. (0.011s)\n",
            "video 1/1 (102/333) /content/drive/MyDrive/BillardAI/Videos/VID_20210503_204021.mp4: 384x640 1 yello, 1 white, 1 red, Done. (0.011s)\n",
            "video 1/1 (103/333) /content/drive/MyDrive/BillardAI/Videos/VID_20210503_204021.mp4: 384x640 1 yello, 1 white, 1 red, Done. (0.011s)\n",
            "video 1/1 (104/333) /content/drive/MyDrive/BillardAI/Videos/VID_20210503_204021.mp4: 384x640 1 yello, 1 white, 1 red, Done. (0.011s)\n",
            "video 1/1 (105/333) /content/drive/MyDrive/BillardAI/Videos/VID_20210503_204021.mp4: 384x640 1 yello, 1 red, Done. (0.011s)\n",
            "video 1/1 (106/333) /content/drive/MyDrive/BillardAI/Videos/VID_20210503_204021.mp4: 384x640 1 yello, 1 red, Done. (0.011s)\n",
            "video 1/1 (107/333) /content/drive/MyDrive/BillardAI/Videos/VID_20210503_204021.mp4: 384x640 1 yello, 1 white, 1 red, Done. (0.011s)\n",
            "video 1/1 (108/333) /content/drive/MyDrive/BillardAI/Videos/VID_20210503_204021.mp4: 384x640 1 yello, 1 red, Done. (0.011s)\n",
            "video 1/1 (109/333) /content/drive/MyDrive/BillardAI/Videos/VID_20210503_204021.mp4: 384x640 1 yello, 1 white, 1 red, Done. (0.011s)\n",
            "video 1/1 (110/333) /content/drive/MyDrive/BillardAI/Videos/VID_20210503_204021.mp4: 384x640 1 yello, 1 white, 1 red, Done. (0.011s)\n",
            "video 1/1 (111/333) /content/drive/MyDrive/BillardAI/Videos/VID_20210503_204021.mp4: 384x640 1 yello, 1 red, Done. (0.011s)\n",
            "video 1/1 (112/333) /content/drive/MyDrive/BillardAI/Videos/VID_20210503_204021.mp4: 384x640 1 yello, 1 white, 1 red, Done. (0.011s)\n",
            "video 1/1 (113/333) /content/drive/MyDrive/BillardAI/Videos/VID_20210503_204021.mp4: 384x640 1 yello, 1 white, 1 red, Done. (0.011s)\n",
            "video 1/1 (114/333) /content/drive/MyDrive/BillardAI/Videos/VID_20210503_204021.mp4: 384x640 1 yello, 1 white, 1 red, Done. (0.011s)\n",
            "video 1/1 (115/333) /content/drive/MyDrive/BillardAI/Videos/VID_20210503_204021.mp4: 384x640 1 yello, 1 white, 1 red, Done. (0.011s)\n",
            "video 1/1 (116/333) /content/drive/MyDrive/BillardAI/Videos/VID_20210503_204021.mp4: 384x640 1 yello, 1 red, Done. (0.012s)\n",
            "video 1/1 (117/333) /content/drive/MyDrive/BillardAI/Videos/VID_20210503_204021.mp4: 384x640 1 yello, 1 white, 1 red, Done. (0.018s)\n",
            "video 1/1 (118/333) /content/drive/MyDrive/BillardAI/Videos/VID_20210503_204021.mp4: 384x640 1 yello, 1 white, 1 red, Done. (0.011s)\n",
            "video 1/1 (119/333) /content/drive/MyDrive/BillardAI/Videos/VID_20210503_204021.mp4: 384x640 1 yello, 1 red, Done. (0.011s)\n",
            "video 1/1 (120/333) /content/drive/MyDrive/BillardAI/Videos/VID_20210503_204021.mp4: 384x640 1 yello, 1 white, 1 red, Done. (0.013s)\n",
            "video 1/1 (121/333) /content/drive/MyDrive/BillardAI/Videos/VID_20210503_204021.mp4: 384x640 1 yello, 1 white, 1 red, Done. (0.012s)\n",
            "video 1/1 (122/333) /content/drive/MyDrive/BillardAI/Videos/VID_20210503_204021.mp4: 384x640 1 yello, 1 white, 1 red, Done. (0.012s)\n",
            "video 1/1 (123/333) /content/drive/MyDrive/BillardAI/Videos/VID_20210503_204021.mp4: 384x640 1 yello, 1 white, 1 red, Done. (0.011s)\n",
            "video 1/1 (124/333) /content/drive/MyDrive/BillardAI/Videos/VID_20210503_204021.mp4: 384x640 1 yello, 1 white, 1 red, Done. (0.011s)\n",
            "video 1/1 (125/333) /content/drive/MyDrive/BillardAI/Videos/VID_20210503_204021.mp4: 384x640 1 yello, 1 white, 1 red, Done. (0.012s)\n",
            "video 1/1 (126/333) /content/drive/MyDrive/BillardAI/Videos/VID_20210503_204021.mp4: 384x640 1 yello, 1 white, 1 red, Done. (0.011s)\n",
            "video 1/1 (127/333) /content/drive/MyDrive/BillardAI/Videos/VID_20210503_204021.mp4: 384x640 1 yello, 1 white, 1 red, Done. (0.011s)\n",
            "video 1/1 (128/333) /content/drive/MyDrive/BillardAI/Videos/VID_20210503_204021.mp4: 384x640 1 yello, 1 white, 1 red, Done. (0.011s)\n",
            "video 1/1 (129/333) /content/drive/MyDrive/BillardAI/Videos/VID_20210503_204021.mp4: 384x640 1 yello, 1 white, 1 red, Done. (0.011s)\n",
            "video 1/1 (130/333) /content/drive/MyDrive/BillardAI/Videos/VID_20210503_204021.mp4: 384x640 1 yello, 1 white, 1 red, Done. (0.013s)\n",
            "video 1/1 (131/333) /content/drive/MyDrive/BillardAI/Videos/VID_20210503_204021.mp4: 384x640 1 yello, 1 white, 1 red, Done. (0.011s)\n",
            "video 1/1 (132/333) /content/drive/MyDrive/BillardAI/Videos/VID_20210503_204021.mp4: 384x640 1 yello, 1 white, 1 red, Done. (0.011s)\n",
            "video 1/1 (133/333) /content/drive/MyDrive/BillardAI/Videos/VID_20210503_204021.mp4: 384x640 1 yello, 1 white, 1 red, Done. (0.012s)\n",
            "video 1/1 (134/333) /content/drive/MyDrive/BillardAI/Videos/VID_20210503_204021.mp4: 384x640 1 yello, 1 white, 1 red, Done. (0.011s)\n",
            "video 1/1 (135/333) /content/drive/MyDrive/BillardAI/Videos/VID_20210503_204021.mp4: 384x640 1 yello, 1 white, 1 red, Done. (0.011s)\n",
            "video 1/1 (136/333) /content/drive/MyDrive/BillardAI/Videos/VID_20210503_204021.mp4: 384x640 1 yello, 1 white, 1 red, Done. (0.011s)\n",
            "video 1/1 (137/333) /content/drive/MyDrive/BillardAI/Videos/VID_20210503_204021.mp4: 384x640 1 yello, 1 white, 1 red, Done. (0.011s)\n",
            "video 1/1 (138/333) /content/drive/MyDrive/BillardAI/Videos/VID_20210503_204021.mp4: 384x640 1 yello, 1 white, 1 red, Done. (0.014s)\n",
            "video 1/1 (139/333) /content/drive/MyDrive/BillardAI/Videos/VID_20210503_204021.mp4: 384x640 1 yello, 1 white, 1 red, Done. (0.011s)\n",
            "video 1/1 (140/333) /content/drive/MyDrive/BillardAI/Videos/VID_20210503_204021.mp4: 384x640 1 yello, 1 white, 1 red, Done. (0.011s)\n",
            "video 1/1 (141/333) /content/drive/MyDrive/BillardAI/Videos/VID_20210503_204021.mp4: 384x640 1 yello, 1 white, 1 red, Done. (0.011s)\n",
            "video 1/1 (142/333) /content/drive/MyDrive/BillardAI/Videos/VID_20210503_204021.mp4: 384x640 1 yello, 1 white, 1 red, Done. (0.011s)\n",
            "video 1/1 (143/333) /content/drive/MyDrive/BillardAI/Videos/VID_20210503_204021.mp4: 384x640 1 yello, 1 white, 1 red, Done. (0.011s)\n",
            "video 1/1 (144/333) /content/drive/MyDrive/BillardAI/Videos/VID_20210503_204021.mp4: 384x640 1 yello, 1 red, Done. (0.011s)\n",
            "video 1/1 (145/333) /content/drive/MyDrive/BillardAI/Videos/VID_20210503_204021.mp4: 384x640 1 yello, 1 red, Done. (0.011s)\n",
            "video 1/1 (146/333) /content/drive/MyDrive/BillardAI/Videos/VID_20210503_204021.mp4: 384x640 1 yello, 1 red, Done. (0.013s)\n",
            "video 1/1 (147/333) /content/drive/MyDrive/BillardAI/Videos/VID_20210503_204021.mp4: 384x640 1 yello, 1 red, Done. (0.011s)\n",
            "video 1/1 (148/333) /content/drive/MyDrive/BillardAI/Videos/VID_20210503_204021.mp4: 384x640 1 yello, 1 red, Done. (0.012s)\n",
            "video 1/1 (149/333) /content/drive/MyDrive/BillardAI/Videos/VID_20210503_204021.mp4: 384x640 1 yello, 1 red, Done. (0.011s)\n",
            "video 1/1 (150/333) /content/drive/MyDrive/BillardAI/Videos/VID_20210503_204021.mp4: 384x640 1 red, Done. (0.011s)\n",
            "video 1/1 (151/333) /content/drive/MyDrive/BillardAI/Videos/VID_20210503_204021.mp4: 384x640 1 yello, 1 red, Done. (0.011s)\n",
            "video 1/1 (152/333) /content/drive/MyDrive/BillardAI/Videos/VID_20210503_204021.mp4: 384x640 1 yello, 1 red, Done. (0.011s)\n",
            "video 1/1 (153/333) /content/drive/MyDrive/BillardAI/Videos/VID_20210503_204021.mp4: 384x640 1 yello, 1 white, 1 red, Done. (0.011s)\n",
            "video 1/1 (154/333) /content/drive/MyDrive/BillardAI/Videos/VID_20210503_204021.mp4: 384x640 1 white, 1 red, Done. (0.011s)\n",
            "video 1/1 (155/333) /content/drive/MyDrive/BillardAI/Videos/VID_20210503_204021.mp4: 384x640 1 white, 1 red, Done. (0.011s)\n",
            "video 1/1 (156/333) /content/drive/MyDrive/BillardAI/Videos/VID_20210503_204021.mp4: 384x640 1 white, 1 red, Done. (0.011s)\n",
            "video 1/1 (157/333) /content/drive/MyDrive/BillardAI/Videos/VID_20210503_204021.mp4: 384x640 1 white, 1 red, Done. (0.011s)\n",
            "video 1/1 (158/333) /content/drive/MyDrive/BillardAI/Videos/VID_20210503_204021.mp4: 384x640 1 red, Done. (0.011s)\n",
            "video 1/1 (159/333) /content/drive/MyDrive/BillardAI/Videos/VID_20210503_204021.mp4: 384x640 1 red, Done. (0.011s)\n",
            "video 1/1 (160/333) /content/drive/MyDrive/BillardAI/Videos/VID_20210503_204021.mp4: 384x640 1 red, Done. (0.011s)\n",
            "video 1/1 (161/333) /content/drive/MyDrive/BillardAI/Videos/VID_20210503_204021.mp4: 384x640 1 red, Done. (0.011s)\n",
            "video 1/1 (162/333) /content/drive/MyDrive/BillardAI/Videos/VID_20210503_204021.mp4: 384x640 1 red, Done. (0.011s)\n",
            "video 1/1 (163/333) /content/drive/MyDrive/BillardAI/Videos/VID_20210503_204021.mp4: 384x640 1 red, Done. (0.011s)\n",
            "video 1/1 (164/333) /content/drive/MyDrive/BillardAI/Videos/VID_20210503_204021.mp4: 384x640 1 red, Done. (0.011s)\n",
            "video 1/1 (165/333) /content/drive/MyDrive/BillardAI/Videos/VID_20210503_204021.mp4: 384x640 1 red, Done. (0.011s)\n",
            "video 1/1 (166/333) /content/drive/MyDrive/BillardAI/Videos/VID_20210503_204021.mp4: 384x640 1 red, Done. (0.011s)\n",
            "video 1/1 (167/333) /content/drive/MyDrive/BillardAI/Videos/VID_20210503_204021.mp4: 384x640 1 red, Done. (0.011s)\n",
            "video 1/1 (168/333) /content/drive/MyDrive/BillardAI/Videos/VID_20210503_204021.mp4: 384x640 1 red, Done. (0.011s)\n",
            "video 1/1 (169/333) /content/drive/MyDrive/BillardAI/Videos/VID_20210503_204021.mp4: 384x640 1 red, Done. (0.011s)\n",
            "video 1/1 (170/333) /content/drive/MyDrive/BillardAI/Videos/VID_20210503_204021.mp4: 384x640 1 red, Done. (0.011s)\n",
            "video 1/1 (171/333) /content/drive/MyDrive/BillardAI/Videos/VID_20210503_204021.mp4: 384x640 1 red, Done. (0.011s)\n",
            "video 1/1 (172/333) /content/drive/MyDrive/BillardAI/Videos/VID_20210503_204021.mp4: 384x640 1 red, Done. (0.011s)\n",
            "video 1/1 (173/333) /content/drive/MyDrive/BillardAI/Videos/VID_20210503_204021.mp4: 384x640 1 red, Done. (0.011s)\n",
            "video 1/1 (174/333) /content/drive/MyDrive/BillardAI/Videos/VID_20210503_204021.mp4: 384x640 1 red, Done. (0.011s)\n",
            "video 1/1 (175/333) /content/drive/MyDrive/BillardAI/Videos/VID_20210503_204021.mp4: 384x640 1 red, Done. (0.015s)\n",
            "video 1/1 (176/333) /content/drive/MyDrive/BillardAI/Videos/VID_20210503_204021.mp4: 384x640 1 red, Done. (0.011s)\n",
            "video 1/1 (177/333) /content/drive/MyDrive/BillardAI/Videos/VID_20210503_204021.mp4: 384x640 1 red, Done. (0.011s)\n",
            "video 1/1 (178/333) /content/drive/MyDrive/BillardAI/Videos/VID_20210503_204021.mp4: 384x640 1 red, Done. (0.011s)\n",
            "video 1/1 (179/333) /content/drive/MyDrive/BillardAI/Videos/VID_20210503_204021.mp4: 384x640 1 red, Done. (0.011s)\n",
            "video 1/1 (180/333) /content/drive/MyDrive/BillardAI/Videos/VID_20210503_204021.mp4: 384x640 1 red, Done. (0.011s)\n",
            "video 1/1 (181/333) /content/drive/MyDrive/BillardAI/Videos/VID_20210503_204021.mp4: 384x640 1 red, Done. (0.012s)\n",
            "video 1/1 (182/333) /content/drive/MyDrive/BillardAI/Videos/VID_20210503_204021.mp4: 384x640 1 red, Done. (0.011s)\n",
            "video 1/1 (183/333) /content/drive/MyDrive/BillardAI/Videos/VID_20210503_204021.mp4: 384x640 1 red, Done. (0.011s)\n",
            "video 1/1 (184/333) /content/drive/MyDrive/BillardAI/Videos/VID_20210503_204021.mp4: 384x640 1 red, Done. (0.011s)\n",
            "video 1/1 (185/333) /content/drive/MyDrive/BillardAI/Videos/VID_20210503_204021.mp4: 384x640 1 red, Done. (0.011s)\n",
            "video 1/1 (186/333) /content/drive/MyDrive/BillardAI/Videos/VID_20210503_204021.mp4: 384x640 1 red, Done. (0.011s)\n",
            "video 1/1 (187/333) /content/drive/MyDrive/BillardAI/Videos/VID_20210503_204021.mp4: 384x640 1 red, Done. (0.012s)\n",
            "video 1/1 (188/333) /content/drive/MyDrive/BillardAI/Videos/VID_20210503_204021.mp4: 384x640 1 red, Done. (0.012s)\n",
            "video 1/1 (189/333) /content/drive/MyDrive/BillardAI/Videos/VID_20210503_204021.mp4: 384x640 1 red, Done. (0.011s)\n",
            "video 1/1 (190/333) /content/drive/MyDrive/BillardAI/Videos/VID_20210503_204021.mp4: 384x640 1 red, Done. (0.011s)\n",
            "video 1/1 (191/333) /content/drive/MyDrive/BillardAI/Videos/VID_20210503_204021.mp4: 384x640 1 yello, 1 red, Done. (0.011s)\n",
            "video 1/1 (192/333) /content/drive/MyDrive/BillardAI/Videos/VID_20210503_204021.mp4: 384x640 1 red, Done. (0.011s)\n",
            "video 1/1 (193/333) /content/drive/MyDrive/BillardAI/Videos/VID_20210503_204021.mp4: 384x640 1 yello, 1 red, Done. (0.011s)\n",
            "video 1/1 (194/333) /content/drive/MyDrive/BillardAI/Videos/VID_20210503_204021.mp4: 384x640 1 yello, 1 white, 1 red, Done. (0.011s)\n",
            "video 1/1 (195/333) /content/drive/MyDrive/BillardAI/Videos/VID_20210503_204021.mp4: 384x640 1 yello, 1 red, Done. (0.011s)\n",
            "video 1/1 (196/333) /content/drive/MyDrive/BillardAI/Videos/VID_20210503_204021.mp4: 384x640 1 yello, 1 red, Done. (0.011s)\n",
            "video 1/1 (197/333) /content/drive/MyDrive/BillardAI/Videos/VID_20210503_204021.mp4: 384x640 1 yello, 1 red, Done. (0.011s)\n",
            "video 1/1 (198/333) /content/drive/MyDrive/BillardAI/Videos/VID_20210503_204021.mp4: 384x640 1 yello, 1 red, Done. (0.011s)\n",
            "video 1/1 (199/333) /content/drive/MyDrive/BillardAI/Videos/VID_20210503_204021.mp4: 384x640 1 yello, 1 red, Done. (0.011s)\n",
            "video 1/1 (200/333) /content/drive/MyDrive/BillardAI/Videos/VID_20210503_204021.mp4: 384x640 1 yello, 1 red, Done. (0.011s)\n",
            "video 1/1 (201/333) /content/drive/MyDrive/BillardAI/Videos/VID_20210503_204021.mp4: 384x640 1 yello, 1 red, Done. (0.011s)\n",
            "video 1/1 (202/333) /content/drive/MyDrive/BillardAI/Videos/VID_20210503_204021.mp4: 384x640 1 yello, 1 red, Done. (0.011s)\n",
            "video 1/1 (203/333) /content/drive/MyDrive/BillardAI/Videos/VID_20210503_204021.mp4: 384x640 1 yello, 1 red, Done. (0.011s)\n",
            "video 1/1 (204/333) /content/drive/MyDrive/BillardAI/Videos/VID_20210503_204021.mp4: 384x640 1 yello, 1 red, Done. (0.011s)\n",
            "video 1/1 (205/333) /content/drive/MyDrive/BillardAI/Videos/VID_20210503_204021.mp4: 384x640 1 yello, 1 red, Done. (0.011s)\n",
            "video 1/1 (206/333) /content/drive/MyDrive/BillardAI/Videos/VID_20210503_204021.mp4: 384x640 1 yello, 1 red, Done. (0.011s)\n",
            "video 1/1 (207/333) /content/drive/MyDrive/BillardAI/Videos/VID_20210503_204021.mp4: 384x640 1 yello, 1 red, Done. (0.011s)\n",
            "video 1/1 (208/333) /content/drive/MyDrive/BillardAI/Videos/VID_20210503_204021.mp4: 384x640 1 yello, 1 white, 1 red, Done. (0.012s)\n",
            "video 1/1 (209/333) /content/drive/MyDrive/BillardAI/Videos/VID_20210503_204021.mp4: 384x640 1 yello, 1 white, 1 red, Done. (0.011s)\n",
            "video 1/1 (210/333) /content/drive/MyDrive/BillardAI/Videos/VID_20210503_204021.mp4: 384x640 1 yello, 1 red, Done. (0.011s)\n",
            "video 1/1 (211/333) /content/drive/MyDrive/BillardAI/Videos/VID_20210503_204021.mp4: 384x640 1 yello, 1 white, 1 red, Done. (0.011s)\n",
            "video 1/1 (212/333) /content/drive/MyDrive/BillardAI/Videos/VID_20210503_204021.mp4: 384x640 1 yello, 1 red, Done. (0.011s)\n",
            "video 1/1 (213/333) /content/drive/MyDrive/BillardAI/Videos/VID_20210503_204021.mp4: 384x640 1 yello, 1 white, 1 red, Done. (0.013s)\n",
            "video 1/1 (214/333) /content/drive/MyDrive/BillardAI/Videos/VID_20210503_204021.mp4: 384x640 1 yello, 1 red, Done. (0.011s)\n",
            "video 1/1 (215/333) /content/drive/MyDrive/BillardAI/Videos/VID_20210503_204021.mp4: 384x640 1 yello, 1 white, 1 red, Done. (0.011s)\n",
            "video 1/1 (216/333) /content/drive/MyDrive/BillardAI/Videos/VID_20210503_204021.mp4: 384x640 1 yello, 1 red, Done. (0.011s)\n",
            "video 1/1 (217/333) /content/drive/MyDrive/BillardAI/Videos/VID_20210503_204021.mp4: 384x640 1 yello, 1 red, Done. (0.011s)\n",
            "video 1/1 (218/333) /content/drive/MyDrive/BillardAI/Videos/VID_20210503_204021.mp4: 384x640 1 yello, 1 red, Done. (0.011s)\n",
            "video 1/1 (219/333) /content/drive/MyDrive/BillardAI/Videos/VID_20210503_204021.mp4: 384x640 1 yello, 1 red, Done. (0.011s)\n",
            "video 1/1 (220/333) /content/drive/MyDrive/BillardAI/Videos/VID_20210503_204021.mp4: 384x640 1 yello, Done. (0.011s)\n",
            "video 1/1 (221/333) /content/drive/MyDrive/BillardAI/Videos/VID_20210503_204021.mp4: 384x640 1 yello, 1 red, Done. (0.011s)\n",
            "video 1/1 (222/333) /content/drive/MyDrive/BillardAI/Videos/VID_20210503_204021.mp4: 384x640 1 yello, Done. (0.011s)\n",
            "video 1/1 (223/333) /content/drive/MyDrive/BillardAI/Videos/VID_20210503_204021.mp4: 384x640 1 yello, Done. (0.011s)\n",
            "video 1/1 (224/333) /content/drive/MyDrive/BillardAI/Videos/VID_20210503_204021.mp4: 384x640 1 yello, Done. (0.011s)\n",
            "video 1/1 (225/333) /content/drive/MyDrive/BillardAI/Videos/VID_20210503_204021.mp4: 384x640 1 yello, Done. (0.011s)\n",
            "video 1/1 (226/333) /content/drive/MyDrive/BillardAI/Videos/VID_20210503_204021.mp4: 384x640 Done. (0.010s)\n",
            "video 1/1 (227/333) /content/drive/MyDrive/BillardAI/Videos/VID_20210503_204021.mp4: 384x640 1 yello, Done. (0.011s)\n",
            "video 1/1 (228/333) /content/drive/MyDrive/BillardAI/Videos/VID_20210503_204021.mp4: 384x640 Done. (0.011s)\n",
            "video 1/1 (229/333) /content/drive/MyDrive/BillardAI/Videos/VID_20210503_204021.mp4: 384x640 Done. (0.010s)\n",
            "video 1/1 (230/333) /content/drive/MyDrive/BillardAI/Videos/VID_20210503_204021.mp4: 384x640 Done. (0.010s)\n",
            "video 1/1 (231/333) /content/drive/MyDrive/BillardAI/Videos/VID_20210503_204021.mp4: 384x640 Done. (0.011s)\n",
            "video 1/1 (232/333) /content/drive/MyDrive/BillardAI/Videos/VID_20210503_204021.mp4: 384x640 1 yello, 1 red, Done. (0.011s)\n",
            "video 1/1 (233/333) /content/drive/MyDrive/BillardAI/Videos/VID_20210503_204021.mp4: 384x640 1 red, Done. (0.011s)\n",
            "video 1/1 (234/333) /content/drive/MyDrive/BillardAI/Videos/VID_20210503_204021.mp4: 384x640 1 red, Done. (0.011s)\n",
            "video 1/1 (235/333) /content/drive/MyDrive/BillardAI/Videos/VID_20210503_204021.mp4: 384x640 1 red, Done. (0.011s)\n",
            "video 1/1 (236/333) /content/drive/MyDrive/BillardAI/Videos/VID_20210503_204021.mp4: 384x640 1 yello, 1 red, Done. (0.011s)\n",
            "video 1/1 (237/333) /content/drive/MyDrive/BillardAI/Videos/VID_20210503_204021.mp4: 384x640 1 red, Done. (0.011s)\n",
            "video 1/1 (238/333) /content/drive/MyDrive/BillardAI/Videos/VID_20210503_204021.mp4: 384x640 1 red, Done. (0.011s)\n",
            "video 1/1 (239/333) /content/drive/MyDrive/BillardAI/Videos/VID_20210503_204021.mp4: 384x640 1 red, Done. (0.011s)\n",
            "video 1/1 (240/333) /content/drive/MyDrive/BillardAI/Videos/VID_20210503_204021.mp4: 384x640 1 red, Done. (0.011s)\n",
            "video 1/1 (241/333) /content/drive/MyDrive/BillardAI/Videos/VID_20210503_204021.mp4: 384x640 1 red, Done. (0.011s)\n",
            "video 1/1 (242/333) /content/drive/MyDrive/BillardAI/Videos/VID_20210503_204021.mp4: 384x640 1 red, Done. (0.011s)\n",
            "video 1/1 (243/333) /content/drive/MyDrive/BillardAI/Videos/VID_20210503_204021.mp4: 384x640 1 red, Done. (0.011s)\n",
            "video 1/1 (244/333) /content/drive/MyDrive/BillardAI/Videos/VID_20210503_204021.mp4: 384x640 1 red, Done. (0.011s)\n",
            "video 1/1 (245/333) /content/drive/MyDrive/BillardAI/Videos/VID_20210503_204021.mp4: 384x640 1 red, Done. (0.011s)\n",
            "video 1/1 (246/333) /content/drive/MyDrive/BillardAI/Videos/VID_20210503_204021.mp4: 384x640 1 red, Done. (0.011s)\n",
            "video 1/1 (247/333) /content/drive/MyDrive/BillardAI/Videos/VID_20210503_204021.mp4: 384x640 Done. (0.010s)\n",
            "video 1/1 (248/333) /content/drive/MyDrive/BillardAI/Videos/VID_20210503_204021.mp4: 384x640 Done. (0.010s)\n",
            "video 1/1 (249/333) /content/drive/MyDrive/BillardAI/Videos/VID_20210503_204021.mp4: 384x640 Done. (0.010s)\n",
            "video 1/1 (250/333) /content/drive/MyDrive/BillardAI/Videos/VID_20210503_204021.mp4: 384x640 1 red, Done. (0.011s)\n",
            "video 1/1 (251/333) /content/drive/MyDrive/BillardAI/Videos/VID_20210503_204021.mp4: 384x640 1 red, Done. (0.011s)\n",
            "video 1/1 (252/333) /content/drive/MyDrive/BillardAI/Videos/VID_20210503_204021.mp4: 384x640 1 red, Done. (0.011s)\n",
            "video 1/1 (253/333) /content/drive/MyDrive/BillardAI/Videos/VID_20210503_204021.mp4: 384x640 1 red, Done. (0.011s)\n",
            "video 1/1 (254/333) /content/drive/MyDrive/BillardAI/Videos/VID_20210503_204021.mp4: 384x640 1 red, Done. (0.011s)\n",
            "video 1/1 (255/333) /content/drive/MyDrive/BillardAI/Videos/VID_20210503_204021.mp4: 384x640 1 red, Done. (0.011s)\n",
            "video 1/1 (256/333) /content/drive/MyDrive/BillardAI/Videos/VID_20210503_204021.mp4: 384x640 1 red, Done. (0.011s)\n",
            "video 1/1 (257/333) /content/drive/MyDrive/BillardAI/Videos/VID_20210503_204021.mp4: 384x640 1 red, Done. (0.011s)\n",
            "video 1/1 (258/333) /content/drive/MyDrive/BillardAI/Videos/VID_20210503_204021.mp4: 384x640 1 red, Done. (0.011s)\n",
            "video 1/1 (259/333) /content/drive/MyDrive/BillardAI/Videos/VID_20210503_204021.mp4: 384x640 1 red, Done. (0.011s)\n",
            "video 1/1 (260/333) /content/drive/MyDrive/BillardAI/Videos/VID_20210503_204021.mp4: 384x640 Done. (0.011s)\n",
            "video 1/1 (261/333) /content/drive/MyDrive/BillardAI/Videos/VID_20210503_204021.mp4: 384x640 1 red, Done. (0.011s)\n",
            "video 1/1 (262/333) /content/drive/MyDrive/BillardAI/Videos/VID_20210503_204021.mp4: 384x640 1 red, Done. (0.011s)\n",
            "video 1/1 (263/333) /content/drive/MyDrive/BillardAI/Videos/VID_20210503_204021.mp4: 384x640 1 red, Done. (0.011s)\n",
            "video 1/1 (264/333) /content/drive/MyDrive/BillardAI/Videos/VID_20210503_204021.mp4: 384x640 1 red, Done. (0.011s)\n",
            "video 1/1 (265/333) /content/drive/MyDrive/BillardAI/Videos/VID_20210503_204021.mp4: 384x640 1 red, Done. (0.011s)\n",
            "video 1/1 (266/333) /content/drive/MyDrive/BillardAI/Videos/VID_20210503_204021.mp4: 384x640 1 red, Done. (0.011s)\n",
            "video 1/1 (267/333) /content/drive/MyDrive/BillardAI/Videos/VID_20210503_204021.mp4: 384x640 1 red, Done. (0.011s)\n",
            "video 1/1 (268/333) /content/drive/MyDrive/BillardAI/Videos/VID_20210503_204021.mp4: 384x640 1 red, Done. (0.011s)\n",
            "video 1/1 (269/333) /content/drive/MyDrive/BillardAI/Videos/VID_20210503_204021.mp4: 384x640 1 red, Done. (0.011s)\n",
            "video 1/1 (270/333) /content/drive/MyDrive/BillardAI/Videos/VID_20210503_204021.mp4: 384x640 1 red, Done. (0.011s)\n",
            "video 1/1 (271/333) /content/drive/MyDrive/BillardAI/Videos/VID_20210503_204021.mp4: 384x640 1 red, Done. (0.011s)\n",
            "video 1/1 (272/333) /content/drive/MyDrive/BillardAI/Videos/VID_20210503_204021.mp4: 384x640 1 red, Done. (0.011s)\n",
            "video 1/1 (273/333) /content/drive/MyDrive/BillardAI/Videos/VID_20210503_204021.mp4: 384x640 1 red, Done. (0.011s)\n",
            "video 1/1 (274/333) /content/drive/MyDrive/BillardAI/Videos/VID_20210503_204021.mp4: 384x640 1 red, Done. (0.011s)\n",
            "video 1/1 (275/333) /content/drive/MyDrive/BillardAI/Videos/VID_20210503_204021.mp4: 384x640 1 red, Done. (0.011s)\n",
            "video 1/1 (276/333) /content/drive/MyDrive/BillardAI/Videos/VID_20210503_204021.mp4: 384x640 1 red, Done. (0.012s)\n",
            "video 1/1 (277/333) /content/drive/MyDrive/BillardAI/Videos/VID_20210503_204021.mp4: 384x640 1 red, Done. (0.011s)\n",
            "video 1/1 (278/333) /content/drive/MyDrive/BillardAI/Videos/VID_20210503_204021.mp4: 384x640 1 red, Done. (0.012s)\n",
            "video 1/1 (279/333) /content/drive/MyDrive/BillardAI/Videos/VID_20210503_204021.mp4: 384x640 1 red, Done. (0.011s)\n",
            "video 1/1 (280/333) /content/drive/MyDrive/BillardAI/Videos/VID_20210503_204021.mp4: 384x640 1 red, Done. (0.011s)\n",
            "video 1/1 (281/333) /content/drive/MyDrive/BillardAI/Videos/VID_20210503_204021.mp4: 384x640 1 red, Done. (0.011s)\n",
            "video 1/1 (282/333) /content/drive/MyDrive/BillardAI/Videos/VID_20210503_204021.mp4: 384x640 1 red, Done. (0.011s)\n",
            "video 1/1 (283/333) /content/drive/MyDrive/BillardAI/Videos/VID_20210503_204021.mp4: 384x640 1 red, Done. (0.012s)\n",
            "video 1/1 (284/333) /content/drive/MyDrive/BillardAI/Videos/VID_20210503_204021.mp4: 384x640 1 red, Done. (0.011s)\n",
            "video 1/1 (285/333) /content/drive/MyDrive/BillardAI/Videos/VID_20210503_204021.mp4: 384x640 1 red, Done. (0.011s)\n",
            "video 1/1 (286/333) /content/drive/MyDrive/BillardAI/Videos/VID_20210503_204021.mp4: 384x640 1 red, Done. (0.011s)\n",
            "video 1/1 (287/333) /content/drive/MyDrive/BillardAI/Videos/VID_20210503_204021.mp4: 384x640 1 red, Done. (0.011s)\n",
            "video 1/1 (288/333) /content/drive/MyDrive/BillardAI/Videos/VID_20210503_204021.mp4: 384x640 1 red, Done. (0.011s)\n",
            "video 1/1 (289/333) /content/drive/MyDrive/BillardAI/Videos/VID_20210503_204021.mp4: 384x640 1 red, Done. (0.012s)\n",
            "video 1/1 (290/333) /content/drive/MyDrive/BillardAI/Videos/VID_20210503_204021.mp4: 384x640 1 red, Done. (0.011s)\n",
            "video 1/1 (291/333) /content/drive/MyDrive/BillardAI/Videos/VID_20210503_204021.mp4: 384x640 1 red, Done. (0.011s)\n",
            "video 1/1 (292/333) /content/drive/MyDrive/BillardAI/Videos/VID_20210503_204021.mp4: 384x640 1 red, Done. (0.011s)\n",
            "video 1/1 (293/333) /content/drive/MyDrive/BillardAI/Videos/VID_20210503_204021.mp4: 384x640 1 red, Done. (0.011s)\n",
            "video 1/1 (294/333) /content/drive/MyDrive/BillardAI/Videos/VID_20210503_204021.mp4: 384x640 1 red, Done. (0.011s)\n",
            "video 1/1 (295/333) /content/drive/MyDrive/BillardAI/Videos/VID_20210503_204021.mp4: 384x640 1 red, Done. (0.011s)\n",
            "video 1/1 (296/333) /content/drive/MyDrive/BillardAI/Videos/VID_20210503_204021.mp4: 384x640 1 red, Done. (0.011s)\n",
            "video 1/1 (297/333) /content/drive/MyDrive/BillardAI/Videos/VID_20210503_204021.mp4: 384x640 1 red, Done. (0.011s)\n",
            "video 1/1 (298/333) /content/drive/MyDrive/BillardAI/Videos/VID_20210503_204021.mp4: 384x640 1 red, Done. (0.011s)\n",
            "video 1/1 (299/333) /content/drive/MyDrive/BillardAI/Videos/VID_20210503_204021.mp4: 384x640 1 red, Done. (0.011s)\n",
            "video 1/1 (300/333) /content/drive/MyDrive/BillardAI/Videos/VID_20210503_204021.mp4: 384x640 1 red, Done. (0.011s)\n",
            "video 1/1 (301/333) /content/drive/MyDrive/BillardAI/Videos/VID_20210503_204021.mp4: 384x640 1 red, Done. (0.011s)\n",
            "video 1/1 (302/333) /content/drive/MyDrive/BillardAI/Videos/VID_20210503_204021.mp4: 384x640 1 red, Done. (0.011s)\n",
            "video 1/1 (303/333) /content/drive/MyDrive/BillardAI/Videos/VID_20210503_204021.mp4: 384x640 1 red, Done. (0.011s)\n",
            "video 1/1 (304/333) /content/drive/MyDrive/BillardAI/Videos/VID_20210503_204021.mp4: 384x640 1 red, Done. (0.011s)\n",
            "video 1/1 (305/333) /content/drive/MyDrive/BillardAI/Videos/VID_20210503_204021.mp4: 384x640 1 white, 1 red, Done. (0.011s)\n",
            "video 1/1 (306/333) /content/drive/MyDrive/BillardAI/Videos/VID_20210503_204021.mp4: 384x640 1 red, Done. (0.011s)\n",
            "video 1/1 (307/333) /content/drive/MyDrive/BillardAI/Videos/VID_20210503_204021.mp4: 384x640 1 white, 1 red, Done. (0.011s)\n",
            "video 1/1 (308/333) /content/drive/MyDrive/BillardAI/Videos/VID_20210503_204021.mp4: 384x640 1 white, 1 red, Done. (0.011s)\n",
            "video 1/1 (309/333) /content/drive/MyDrive/BillardAI/Videos/VID_20210503_204021.mp4: 384x640 1 white, 1 red, Done. (0.011s)\n",
            "video 1/1 (310/333) /content/drive/MyDrive/BillardAI/Videos/VID_20210503_204021.mp4: 384x640 1 white, 1 red, Done. (0.011s)\n",
            "video 1/1 (311/333) /content/drive/MyDrive/BillardAI/Videos/VID_20210503_204021.mp4: 384x640 1 white, 1 red, Done. (0.011s)\n",
            "video 1/1 (312/333) /content/drive/MyDrive/BillardAI/Videos/VID_20210503_204021.mp4: 384x640 1 white, 1 red, Done. (0.013s)\n",
            "video 1/1 (313/333) /content/drive/MyDrive/BillardAI/Videos/VID_20210503_204021.mp4: 384x640 1 white, 1 red, Done. (0.011s)\n",
            "video 1/1 (314/333) /content/drive/MyDrive/BillardAI/Videos/VID_20210503_204021.mp4: 384x640 1 red, Done. (0.012s)\n",
            "video 1/1 (315/333) /content/drive/MyDrive/BillardAI/Videos/VID_20210503_204021.mp4: 384x640 1 white, 1 red, Done. (0.011s)\n",
            "video 1/1 (316/333) /content/drive/MyDrive/BillardAI/Videos/VID_20210503_204021.mp4: 384x640 1 red, Done. (0.011s)\n",
            "video 1/1 (317/333) /content/drive/MyDrive/BillardAI/Videos/VID_20210503_204021.mp4: 384x640 1 red, Done. (0.011s)\n",
            "video 1/1 (318/333) /content/drive/MyDrive/BillardAI/Videos/VID_20210503_204021.mp4: 384x640 1 red, Done. (0.011s)\n",
            "video 1/1 (319/333) /content/drive/MyDrive/BillardAI/Videos/VID_20210503_204021.mp4: 384x640 1 white, 1 red, Done. (0.011s)\n",
            "video 1/1 (320/333) /content/drive/MyDrive/BillardAI/Videos/VID_20210503_204021.mp4: 384x640 1 red, Done. (0.011s)\n",
            "video 1/1 (321/333) /content/drive/MyDrive/BillardAI/Videos/VID_20210503_204021.mp4: 384x640 1 red, Done. (0.011s)\n",
            "video 1/1 (322/333) /content/drive/MyDrive/BillardAI/Videos/VID_20210503_204021.mp4: 384x640 1 red, Done. (0.011s)\n",
            "video 1/1 (323/333) /content/drive/MyDrive/BillardAI/Videos/VID_20210503_204021.mp4: 384x640 1 red, Done. (0.011s)\n",
            "video 1/1 (324/333) /content/drive/MyDrive/BillardAI/Videos/VID_20210503_204021.mp4: 384x640 1 white, 1 red, Done. (0.011s)\n",
            "video 1/1 (325/333) /content/drive/MyDrive/BillardAI/Videos/VID_20210503_204021.mp4: 384x640 1 red, Done. (0.011s)\n",
            "video 1/1 (326/333) /content/drive/MyDrive/BillardAI/Videos/VID_20210503_204021.mp4: 384x640 1 red, Done. (0.012s)\n",
            "video 1/1 (327/333) /content/drive/MyDrive/BillardAI/Videos/VID_20210503_204021.mp4: 384x640 1 white, 1 red, Done. (0.011s)\n",
            "video 1/1 (328/333) /content/drive/MyDrive/BillardAI/Videos/VID_20210503_204021.mp4: 384x640 1 red, Done. (0.011s)\n",
            "video 1/1 (329/333) /content/drive/MyDrive/BillardAI/Videos/VID_20210503_204021.mp4: 384x640 1 white, 1 red, Done. (0.011s)\n",
            "video 1/1 (330/333) /content/drive/MyDrive/BillardAI/Videos/VID_20210503_204021.mp4: 384x640 1 white, 1 red, Done. (0.011s)\n",
            "video 1/1 (331/333) /content/drive/MyDrive/BillardAI/Videos/VID_20210503_204021.mp4: 384x640 1 red, Done. (0.013s)\n",
            "video 1/1 (332/333) /content/drive/MyDrive/BillardAI/Videos/VID_20210503_204021.mp4: 384x640 1 white, 1 red, Done. (0.011s)\n",
            "video 1/1 (333/333) /content/drive/MyDrive/BillardAI/Videos/VID_20210503_204021.mp4: 384x640 1 red, Done. (0.011s)\n",
            "Results saved to runs/detect/exp2\n",
            "Done. (8.220s)\n"
          ],
          "name": "stdout"
        }
      ]
    },
    {
      "cell_type": "markdown",
      "metadata": {
        "id": "15glLzbQx5u0"
      },
      "source": [
        "# I. Zip file"
      ]
    },
    {
      "cell_type": "code",
      "metadata": {
        "colab": {
          "base_uri": "https://localhost:8080/",
          "height": 52
        },
        "id": "NNBrSQzJN3Jm",
        "outputId": "549a0e0d-5d51-4f5c-eccb-3f9d2191631c"
      },
      "source": [
        "%cd /content/BillardAI.Core\n",
        "import shutil\n",
        "import datetime\n",
        "\n",
        "zipFolder='/content/BillardAI.Core/runs/detect/exp/labels'\n",
        "date = datetime.datetime.now().strftime(\"%m%d%Y\")\n",
        "output_filename = zipFolder + \"label_\" + date\n",
        "shutil.make_archive(output_filename, 'zip', zipFolder)"
      ],
      "execution_count": null,
      "outputs": [
        {
          "output_type": "stream",
          "text": [
            "/content/BillardAI.Core\n"
          ],
          "name": "stdout"
        },
        {
          "output_type": "execute_result",
          "data": {
            "application/vnd.google.colaboratory.intrinsic+json": {
              "type": "string"
            },
            "text/plain": [
              "'/content/BillardAI.Core/runs/detect/exp/labelslabel_06252021.zip'"
            ]
          },
          "metadata": {
            "tags": []
          },
          "execution_count": 22
        }
      ]
    },
    {
      "cell_type": "markdown",
      "metadata": {
        "id": "-WPvRbS5Swl6"
      },
      "source": [
        "## Local Logging\n",
        "\n",
        "All results are logged by default to `runs/train`, with a new experiment directory created for each new training as `runs/train/exp2`, `runs/train/exp3`, etc. View train and test jpgs to see mosaics, labels, predictions and augmentation effects. Note a **Mosaic Dataloader** is used for training (shown below), a new concept developed by Ultralytics and first featured in [YOLOv4](https://arxiv.org/abs/2004.10934)."
      ]
    },
    {
      "cell_type": "code",
      "metadata": {
        "id": "riPdhraOTCO0"
      },
      "source": [
        "Image(filename='runs/train/exp/train_batch0.jpg', width=800)  # train batch 0 mosaics and labels\n",
        "Image(filename='runs/train/exp/test_batch0_labels.jpg', width=800)  # test batch 0 labels\n",
        "Image(filename='runs/train/exp/test_batch0_pred.jpg', width=800)  # test batch 0 predictions"
      ],
      "execution_count": null,
      "outputs": []
    },
    {
      "cell_type": "markdown",
      "metadata": {
        "id": "OYG4WFEnTVrI"
      },
      "source": [
        "> <img src=\"https://user-images.githubusercontent.com/26833433/83667642-90fcb200-a583-11ea-8fa3-338bbf7da194.jpeg\" width=\"750\">  \n",
        "`train_batch0.jpg` shows train batch 0 mosaics and labels\n",
        "\n",
        "> <img src=\"https://user-images.githubusercontent.com/26833433/83667626-8c37fe00-a583-11ea-997b-0923fe59b29b.jpeg\" width=\"750\">  \n",
        "`test_batch0_labels.jpg` shows test batch 0 labels\n",
        "\n",
        "> <img src=\"https://user-images.githubusercontent.com/26833433/83667635-90641b80-a583-11ea-8075-606316cebb9c.jpeg\" width=\"750\">  \n",
        "`test_batch0_pred.jpg` shows test batch 0 _predictions_\n"
      ]
    },
    {
      "cell_type": "markdown",
      "metadata": {
        "id": "7KN5ghjE6ZWh"
      },
      "source": [
        "Training losses and performance metrics are also logged to [Tensorboard](https://www.tensorflow.org/tensorboard) and a custom `results.txt` logfile which is plotted as `results.png` (below) after training completes. Here we show YOLOv5s trained on COCO128 to 300 epochs, starting from scratch (blue), and from pretrained `--weights yolov5s.pt` (orange)."
      ]
    },
    {
      "cell_type": "code",
      "metadata": {
        "id": "MDznIqPF7nk3"
      },
      "source": [
        "from utils.plots import plot_results \n",
        "plot_results(save_dir='runs/train/exp')  # plot all results*.txt as results.png\n",
        "Image(filename='runs/train/exp/results.png', width=800)"
      ],
      "execution_count": null,
      "outputs": []
    },
    {
      "cell_type": "markdown",
      "metadata": {
        "id": "lfrEegCSW3fK"
      },
      "source": [
        "<img src=\"https://user-images.githubusercontent.com/26833433/97808309-8182b180-1c66-11eb-8461-bffe1a79511d.png\" width=\"800\">\n"
      ]
    },
    {
      "cell_type": "markdown",
      "metadata": {
        "id": "5qoLF2RiNtBb"
      },
      "source": [
        "# I. Visualize - not use yet"
      ]
    },
    {
      "cell_type": "markdown",
      "metadata": {
        "id": "LLoQcUaENtBe"
      },
      "source": [
        "## Weights & Biases Logging 🌟 NEW\n",
        "\n",
        "[Weights & Biases](https://wandb.ai/site?utm_campaign=repo_yolo_notebook) (W&B) is now integrated with YOLOv5 for real-time visualization and cloud logging of training runs. This allows for better run comparison and introspection, as well improved visibility and collaboration for teams. To enable W&B `pip install wandb`, and then train normally (you will be guided through setup on first use). \n",
        "\n",
        "During training you will see live updates at [https://wandb.ai/home](https://wandb.ai/home?utm_campaign=repo_yolo_notebook), and you can create and share detailed [Reports](https://wandb.ai/glenn-jocher/yolov5_tutorial/reports/YOLOv5-COCO128-Tutorial-Results--VmlldzozMDI5OTY) of your results. For more information see the [YOLOv5 Weights & Biases Tutorial](https://github.com/ultralytics/yolov5/issues/1289). \n",
        "\n",
        "<img src=\"https://user-images.githubusercontent.com/26833433/98184457-bd3da580-1f0a-11eb-8461-95d908a71893.jpg\" width=\"800\">"
      ]
    },
    {
      "cell_type": "markdown",
      "metadata": {
        "id": "RbgKt1DYNtBf"
      },
      "source": [
        "## Local Logging\n",
        "\n",
        "All results are logged by default to `runs/train`, with a new experiment directory created for each new training as `runs/train/exp2`, `runs/train/exp3`, etc. View train and test jpgs to see mosaics, labels, predictions and augmentation effects. Note a **Mosaic Dataloader** is used for training (shown below), a new concept developed by Ultralytics and first featured in [YOLOv4](https://arxiv.org/abs/2004.10934)."
      ]
    },
    {
      "cell_type": "code",
      "metadata": {
        "id": "-Ah56QTlNtBf"
      },
      "source": [
        "Image(filename='runs/train/exp/train_batch0.jpg', width=800)  # train batch 0 mosaics and labels\n",
        "Image(filename='runs/train/exp/test_batch0_labels.jpg', width=800)  # test batch 0 labels\n",
        "Image(filename='runs/train/exp/test_batch0_pred.jpg', width=800)  # test batch 0 predictions"
      ],
      "execution_count": null,
      "outputs": []
    },
    {
      "cell_type": "markdown",
      "metadata": {
        "id": "huJzEOVwNtBf"
      },
      "source": [
        "> <img src=\"https://user-images.githubusercontent.com/26833433/83667642-90fcb200-a583-11ea-8fa3-338bbf7da194.jpeg\" width=\"750\">  \n",
        "`train_batch0.jpg` shows train batch 0 mosaics and labels\n",
        "\n",
        "> <img src=\"https://user-images.githubusercontent.com/26833433/83667626-8c37fe00-a583-11ea-997b-0923fe59b29b.jpeg\" width=\"750\">  \n",
        "`test_batch0_labels.jpg` shows test batch 0 labels\n",
        "\n",
        "> <img src=\"https://user-images.githubusercontent.com/26833433/83667635-90641b80-a583-11ea-8075-606316cebb9c.jpeg\" width=\"750\">  \n",
        "`test_batch0_pred.jpg` shows test batch 0 _predictions_\n"
      ]
    },
    {
      "cell_type": "markdown",
      "metadata": {
        "id": "9P-BuUR5NtBf"
      },
      "source": [
        "Training losses and performance metrics are also logged to [Tensorboard](https://www.tensorflow.org/tensorboard) and a custom `results.txt` logfile which is plotted as `results.png` (below) after training completes. Here we show YOLOv5s trained on COCO128 to 300 epochs, starting from scratch (blue), and from pretrained `--weights yolov5s.pt` (orange)."
      ]
    },
    {
      "cell_type": "code",
      "metadata": {
        "id": "M0ldK2OTNtBg"
      },
      "source": [
        "from utils.plots import plot_results \n",
        "plot_results(save_dir='runs/train/exp')  # plot all results*.txt as results.png\n",
        "Image(filename='runs/train/exp/results.png', width=800)"
      ],
      "execution_count": null,
      "outputs": []
    },
    {
      "cell_type": "markdown",
      "metadata": {
        "id": "K6jpZl3qNtBg"
      },
      "source": [
        "<img src=\"https://user-images.githubusercontent.com/26833433/97808309-8182b180-1c66-11eb-8461-bffe1a79511d.png\" width=\"800\">\n"
      ]
    },
    {
      "cell_type": "markdown",
      "metadata": {
        "id": "Zelyeqbyt3GD"
      },
      "source": [
        "# Environments\n",
        "\n",
        "YOLOv5 may be run in any of the following up-to-date verified environments (with all dependencies including [CUDA](https://developer.nvidia.com/cuda)/[CUDNN](https://developer.nvidia.com/cudnn), [Python](https://www.python.org/) and [PyTorch](https://pytorch.org/) preinstalled):\n",
        "\n",
        "- **Google Colab and Kaggle** notebooks with free GPU: <a href=\"https://colab.research.google.com/github/ultralytics/yolov5/blob/master/tutorial.ipynb\"><img src=\"https://colab.research.google.com/assets/colab-badge.svg\" alt=\"Open In Colab\"></a> <a href=\"https://www.kaggle.com/ultralytics/yolov5\"><img src=\"https://kaggle.com/static/images/open-in-kaggle.svg\" alt=\"Open In Kaggle\"></a>\n",
        "- **Google Cloud** Deep Learning VM. See [GCP Quickstart Guide](https://github.com/ultralytics/yolov5/wiki/GCP-Quickstart)\n",
        "- **Amazon** Deep Learning AMI. See [AWS Quickstart Guide](https://github.com/ultralytics/yolov5/wiki/AWS-Quickstart)\n",
        "- **Docker Image**. See [Docker Quickstart Guide](https://github.com/ultralytics/yolov5/wiki/Docker-Quickstart) <a href=\"https://hub.docker.com/r/ultralytics/yolov5\"><img src=\"https://img.shields.io/docker/pulls/ultralytics/yolov5?logo=docker\" alt=\"Docker Pulls\"></a>\n"
      ]
    },
    {
      "cell_type": "markdown",
      "metadata": {
        "id": "6Qu7Iesl0p54"
      },
      "source": [
        "# Status\n",
        "\n",
        "![CI CPU testing](https://github.com/ultralytics/yolov5/workflows/CI%20CPU%20testing/badge.svg)\n",
        "\n",
        "If this badge is green, all [YOLOv5 GitHub Actions](https://github.com/ultralytics/yolov5/actions) Continuous Integration (CI) tests are currently passing. CI tests verify correct operation of YOLOv5 training ([train.py](https://github.com/ultralytics/yolov5/blob/master/train.py)), testing ([test.py](https://github.com/ultralytics/yolov5/blob/master/test.py)), inference ([detect.py](https://github.com/ultralytics/yolov5/blob/master/detect.py)) and export ([export.py](https://github.com/ultralytics/yolov5/blob/master/models/export.py)) on MacOS, Windows, and Ubuntu every 24 hours and on every commit.\n"
      ]
    },
    {
      "cell_type": "markdown",
      "metadata": {
        "id": "IEijrePND_2I"
      },
      "source": [
        "# II. Appendix - not use yet\n",
        "\n",
        "Optional extras below. Unit tests validate repo functionality and should be run on any PRs submitted.\n"
      ]
    },
    {
      "cell_type": "code",
      "metadata": {
        "id": "gI6NoBev8Ib1"
      },
      "source": [
        "# Re-clone repo\n",
        "%cd ..\n",
        "%rm -rf yolov5 && git clone https://github.com/ultralytics/yolov5\n",
        "%cd yolov5"
      ],
      "execution_count": null,
      "outputs": []
    },
    {
      "cell_type": "code",
      "metadata": {
        "id": "mcKoSIK2WSzj"
      },
      "source": [
        "# Reproduce\n",
        "for x in 'yolov5s', 'yolov5m', 'yolov5l', 'yolov5x':\n",
        "  !python test.py --weights {x}.pt --data coco.yaml --img 640 --conf 0.25 --iou 0.45  # speed\n",
        "  !python test.py --weights {x}.pt --data coco.yaml --img 640 --conf 0.001 --iou 0.65  # mAP"
      ],
      "execution_count": null,
      "outputs": []
    },
    {
      "cell_type": "code",
      "metadata": {
        "id": "GMusP4OAxFu6"
      },
      "source": [
        "# PyTorch Hub\n",
        "import torch\n",
        "\n",
        "# Model\n",
        "model = torch.hub.load('ultralytics/yolov5', 'yolov5s')\n",
        "\n",
        "# Images\n",
        "dir = 'https://github.com/ultralytics/yolov5/raw/master/data/images/'\n",
        "imgs = [dir + f for f in ('zidane.jpg', 'bus.jpg')]  # batch of images\n",
        "\n",
        "# Inference\n",
        "results = model(imgs)\n",
        "results.print()  # or .show(), .save()"
      ],
      "execution_count": null,
      "outputs": []
    },
    {
      "cell_type": "code",
      "metadata": {
        "id": "FGH0ZjkGjejy"
      },
      "source": [
        "# Unit tests\n",
        "%%shell\n",
        "export PYTHONPATH=\"$PWD\"  # to run *.py. files in subdirectories\n",
        "\n",
        "rm -rf runs  # remove runs/\n",
        "for m in yolov5s; do  # models\n",
        "  python train.py --weights $m.pt --epochs 3 --img 320 --device 0  # train pretrained\n",
        "  python train.py --weights '' --cfg $m.yaml --epochs 3 --img 320 --device 0  # train scratch\n",
        "  for d in 0 cpu; do  # devices\n",
        "    python detect.py --weights $m.pt --device $d  # detect official\n",
        "    python detect.py --weights runs/train/exp/weights/best.pt --device $d  # detect custom\n",
        "    python test.py --weights $m.pt --device $d # test official\n",
        "    python test.py --weights runs/train/exp/weights/best.pt --device $d # test custom\n",
        "  done\n",
        "  python hubconf.py  # hub\n",
        "  python models/yolo.py --cfg $m.yaml  # inspect\n",
        "  python models/export.py --weights $m.pt --img 640 --batch 1  # export\n",
        "done"
      ],
      "execution_count": null,
      "outputs": []
    },
    {
      "cell_type": "code",
      "metadata": {
        "id": "gogI-kwi3Tye"
      },
      "source": [
        "# Profile\n",
        "from utils.torch_utils import profile \n",
        "\n",
        "m1 = lambda x: x * torch.sigmoid(x)\n",
        "m2 = torch.nn.SiLU()\n",
        "profile(x=torch.randn(16, 3, 640, 640), ops=[m1, m2], n=100)"
      ],
      "execution_count": null,
      "outputs": []
    },
    {
      "cell_type": "code",
      "metadata": {
        "id": "RVRSOhEvUdb5"
      },
      "source": [
        "# Evolve\n",
        "!python train.py --img 640 --batch 64 --epochs 100 --data coco128.yaml --weights yolov5s.pt --cache --noautoanchor --evolve\n",
        "!d=runs/train/evolve && cp evolve.* $d && zip -r evolve.zip $d && gsutil mv evolve.zip gs://bucket  # upload results (optional)"
      ],
      "execution_count": null,
      "outputs": []
    },
    {
      "cell_type": "code",
      "metadata": {
        "id": "BSgFCAcMbk1R"
      },
      "source": [
        "# VOC\n",
        "for b, m in zip([64, 48, 32, 16], ['yolov5s', 'yolov5m', 'yolov5l', 'yolov5x']):  # zip(batch_size, model)\n",
        "  !python train.py --batch {b} --weights {m}.pt --data voc.yaml --epochs 50 --cache --img 512 --nosave --hyp hyp.finetune.yaml --project VOC --name {m}"
      ],
      "execution_count": null,
      "outputs": []
    }
  ]
}